{
 "cells": [
  {
   "cell_type": "code",
   "execution_count": 1,
   "id": "63b16e0e-fec1-4526-a3f4-6569ce4ae4d4",
   "metadata": {},
   "outputs": [
    {
     "name": "stdin",
     "output_type": "stream",
     "text": [
      "Enter your File name:  customers.csv\n"
     ]
    },
    {
     "name": "stdout",
     "output_type": "stream",
     "text": [
      "\u001b[33m Options:\n",
      "1. Read Data from file\n",
      "2. Remove Duplicate Records\n",
      "3. Modify Records\n",
      "4. Read Top 5 Rows\n",
      "5. Read Last 5 Rows\n",
      "6. Read Particular Row\n",
      "7. Modify Particular Record\n",
      "8. Get Dimensions of dataframe\n",
      "9. Export Cleaned CSV File\n",
      "10. Exit Program\n"
     ]
    },
    {
     "name": "stdin",
     "output_type": "stream",
     "text": [
      "Enter your choice (1/2/3/4/5/6/7/8/9/10):  1\n"
     ]
    },
    {
     "name": "stdout",
     "output_type": "stream",
     "text": [
      "<class 'pandas.core.frame.DataFrame'>\n",
      "RangeIndex: 100 entries, 0 to 99\n",
      "Data columns (total 12 columns):\n",
      " #   Column             Non-Null Count  Dtype \n",
      "---  ------             --------------  ----- \n",
      " 0   Index              100 non-null    int64 \n",
      " 1   Customer Id        100 non-null    object\n",
      " 2   First Name         100 non-null    object\n",
      " 3   Last Name          100 non-null    object\n",
      " 4   Company            100 non-null    object\n",
      " 5   City               100 non-null    object\n",
      " 6   Country            100 non-null    object\n",
      " 7   Phone 1            100 non-null    object\n",
      " 8   Phone 2            100 non-null    object\n",
      " 9   Email              100 non-null    object\n",
      " 10  Subscription Date  100 non-null    object\n",
      " 11  Website            100 non-null    object\n",
      "dtypes: int64(1), object(11)\n",
      "memory usage: 9.5+ KB\n",
      "\u001b[33m Options:\n",
      "1. Read Data from file\n",
      "2. Remove Duplicate Records\n",
      "3. Modify Records\n",
      "4. Read Top 5 Rows\n",
      "5. Read Last 5 Rows\n",
      "6. Read Particular Row\n",
      "7. Modify Particular Record\n",
      "8. Get Dimensions of dataframe\n",
      "9. Export Cleaned CSV File\n",
      "10. Exit Program\n"
     ]
    },
    {
     "name": "stdin",
     "output_type": "stream",
     "text": [
      "Enter your choice (1/2/3/4/5/6/7/8/9/10):  4\n"
     ]
    },
    {
     "name": "stdout",
     "output_type": "stream",
     "text": [
      "   Index      Customer Id First Name Last Name  \\\n",
      "0      1  DD37Cf93aecA6Dc     Sheryl    Baxter   \n",
      "1      2  1Ef7b82A4CAAD10    Preston    Lozano   \n",
      "2      3  6F94879bDAfE5a6        Roy     Berry   \n",
      "3      4  5Cef8BFA16c5e3c      Linda     Olsen   \n",
      "4      5  053d585Ab6b3159     Joanna    Bender   \n",
      "\n",
      "                           Company               City  \\\n",
      "0                  Rasmussen Group       East Leonard   \n",
      "1                      Vega-Gentry  East Jimmychester   \n",
      "2                    Murillo-Perry      Isabelborough   \n",
      "3  Dominguez, Mcmillan and Donovan         Bensonview   \n",
      "4         Martin, Lang and Andrade     West Priscilla   \n",
      "\n",
      "                      Country                 Phone 1                Phone 2  \\\n",
      "0                       Chile            229.077.5154       397.884.0519x718   \n",
      "1                    Djibouti              5153435776       686-620-1820x944   \n",
      "2         Antigua and Barbuda         +1-539-402-0259    (496)978-3969x58947   \n",
      "3          Dominican Republic  001-808-617-6467x12895        +1-813-324-8756   \n",
      "4  Slovakia (Slovak Republic)  001-234-203-0635x76146  001-199-446-3860x3486   \n",
      "\n",
      "                         Email Subscription Date                      Website  \n",
      "0     zunigavanessa@smith.info        2020-08-24   http://www.stephenson.com/  \n",
      "1              vmata@colon.com        2021-04-23        http://www.hobbs.com/  \n",
      "2          beckycarr@hogan.com        2020-03-25     http://www.lawrence.com/  \n",
      "3  stanleyblackwell@benson.org        2020-06-02   http://www.good-lyons.com/  \n",
      "4      colinalvarado@miles.net        2021-04-17  https://goodwin-ingram.com/  \n",
      "\u001b[33m Options:\n",
      "1. Read Data from file\n",
      "2. Remove Duplicate Records\n",
      "3. Modify Records\n",
      "4. Read Top 5 Rows\n",
      "5. Read Last 5 Rows\n",
      "6. Read Particular Row\n",
      "7. Modify Particular Record\n",
      "8. Get Dimensions of dataframe\n",
      "9. Export Cleaned CSV File\n",
      "10. Exit Program\n"
     ]
    },
    {
     "name": "stdin",
     "output_type": "stream",
     "text": [
      "Enter your choice (1/2/3/4/5/6/7/8/9/10):  6\n",
      "Enter Row number to Read:  12\n"
     ]
    },
    {
     "name": "stdout",
     "output_type": "stream",
     "text": [
      "Index                                  13\n",
      "Customer Id               e35426EbDEceaFF\n",
      "First Name                         Tracey\n",
      "Last Name                            Mata\n",
      "Company                    Graham-Francis\n",
      "City                    South Joannamouth\n",
      "Country                              Togo\n",
      "Phone 1                  001-949-844-8787\n",
      "Phone 2                     (855)713-8773\n",
      "Email                    alex56@walls.org\n",
      "Subscription Date              2021-12-02\n",
      "Website              http://www.beck.com/\n",
      "Name: 12, dtype: object\n",
      "\u001b[33m Options:\n",
      "1. Read Data from file\n",
      "2. Remove Duplicate Records\n",
      "3. Modify Records\n",
      "4. Read Top 5 Rows\n",
      "5. Read Last 5 Rows\n",
      "6. Read Particular Row\n",
      "7. Modify Particular Record\n",
      "8. Get Dimensions of dataframe\n",
      "9. Export Cleaned CSV File\n",
      "10. Exit Program\n"
     ]
    },
    {
     "name": "stdin",
     "output_type": "stream",
     "text": [
      "Enter your choice (1/2/3/4/5/6/7/8/9/10):  7\n",
      "Enter Row number:  12\n",
      "Enter column name:  First Name\n",
      "Set New Value:  Misha\n"
     ]
    },
    {
     "name": "stdout",
     "output_type": "stream",
     "text": [
      "Record Modified Successfully\n",
      "Index                                  13\n",
      "Customer Id               e35426EbDEceaFF\n",
      "First Name                          Misha\n",
      "Last Name                            Mata\n",
      "Company                    Graham-Francis\n",
      "City                    South Joannamouth\n",
      "Country                              Togo\n",
      "Phone 1                  001-949-844-8787\n",
      "Phone 2                     (855)713-8773\n",
      "Email                    alex56@walls.org\n",
      "Subscription Date              2021-12-02\n",
      "Website              http://www.beck.com/\n",
      "Name: 12, dtype: object\n",
      "\u001b[33m Options:\n",
      "1. Read Data from file\n",
      "2. Remove Duplicate Records\n",
      "3. Modify Records\n",
      "4. Read Top 5 Rows\n",
      "5. Read Last 5 Rows\n",
      "6. Read Particular Row\n",
      "7. Modify Particular Record\n",
      "8. Get Dimensions of dataframe\n",
      "9. Export Cleaned CSV File\n",
      "10. Exit Program\n"
     ]
    },
    {
     "name": "stdin",
     "output_type": "stream",
     "text": [
      "Enter your choice (1/2/3/4/5/6/7/8/9/10):  7\n",
      "Enter Row number:  12\n",
      "Enter column name:  Last Name\n",
      "Set New Value:  Jackson\n"
     ]
    },
    {
     "name": "stdout",
     "output_type": "stream",
     "text": [
      "Record Modified Successfully\n",
      "Index                                  13\n",
      "Customer Id               e35426EbDEceaFF\n",
      "First Name                          Misha\n",
      "Last Name                         Jackson\n",
      "Company                    Graham-Francis\n",
      "City                    South Joannamouth\n",
      "Country                              Togo\n",
      "Phone 1                  001-949-844-8787\n",
      "Phone 2                     (855)713-8773\n",
      "Email                    alex56@walls.org\n",
      "Subscription Date              2021-12-02\n",
      "Website              http://www.beck.com/\n",
      "Name: 12, dtype: object\n",
      "\u001b[33m Options:\n",
      "1. Read Data from file\n",
      "2. Remove Duplicate Records\n",
      "3. Modify Records\n",
      "4. Read Top 5 Rows\n",
      "5. Read Last 5 Rows\n",
      "6. Read Particular Row\n",
      "7. Modify Particular Record\n",
      "8. Get Dimensions of dataframe\n",
      "9. Export Cleaned CSV File\n",
      "10. Exit Program\n"
     ]
    },
    {
     "name": "stdin",
     "output_type": "stream",
     "text": [
      "Enter your choice (1/2/3/4/5/6/7/8/9/10):  9\n",
      "Enter File Name to Export (Must Include .csv) in End:  customers_2.csv\n"
     ]
    },
    {
     "name": "stdout",
     "output_type": "stream",
     "text": [
      "\u001b[33m customers_2.csv  Successfully Exported.\n",
      "\u001b[33m Options:\n",
      "1. Read Data from file\n",
      "2. Remove Duplicate Records\n",
      "3. Modify Records\n",
      "4. Read Top 5 Rows\n",
      "5. Read Last 5 Rows\n",
      "6. Read Particular Row\n",
      "7. Modify Particular Record\n",
      "8. Get Dimensions of dataframe\n",
      "9. Export Cleaned CSV File\n",
      "10. Exit Program\n"
     ]
    },
    {
     "name": "stdin",
     "output_type": "stream",
     "text": [
      "Enter your choice (1/2/3/4/5/6/7/8/9/10):  10\n"
     ]
    },
    {
     "name": "stdout",
     "output_type": "stream",
     "text": [
      "Exiting the program\n"
     ]
    }
   ],
   "source": [
    "#PyCleaner\n",
    "#Simple Data Cleaning Tool in PY\n",
    "# Dev - Ahmed Shaikh\n",
    "# https://github.com/AhmedShaikh0\n",
    "\n",
    "from colorama import Fore\n",
    "import pandas as pd\n",
    "\n",
    "file = input(\"Enter your File name: \")\n",
    "data = pd.read_csv(file)\n",
    "\n",
    "while True:\n",
    "    print(Fore.YELLOW,\"Options:\")\n",
    "    print(\"1. Read Data from file\")\n",
    "    print(\"2. Remove Duplicate Records\")\n",
    "    print(\"3. Modify Records\")\n",
    "    print(\"4. Read Top 5 Rows\")\n",
    "    print(\"5. Read Last 5 Rows\")\n",
    "    print(\"6. Read Particular Row\")\n",
    "    print(\"7. Modify Particular Record\")\n",
    "    print(\"8. Get Dimensions of dataframe\")\n",
    "    print(\"9. Export Cleaned CSV File\")\n",
    "    print(\"10. Exit Program\")\n",
    "    \n",
    "    choice = input(\"Enter your choice (1/2/3/4/5/6/7/8/9/10): \")\n",
    "\n",
    "    if choice == \"1\":\n",
    "        data.info()\n",
    "\n",
    "    elif choice == \"2\":\n",
    "        data.drop_duplicates(inplace=True)\n",
    "        print(\"Duplicate Records removed Successfully.\")\n",
    "\n",
    "    elif choice == \"3\":\n",
    "        column = input(\"Enter Column name: \")\n",
    "        incorrect = input(\"Enter Incorrect Word: \")\n",
    "        correct = input(\"Enter Correct Word: \")\n",
    "        data[column].replace(incorrect, correct, inplace=True)\n",
    "        print(\"Data Modified Successfully.\")\n",
    "\n",
    "    elif choice == \"4\":\n",
    "        print(data.head())\n",
    "    \n",
    "    elif choice == \"5\":\n",
    "        print(data.tail())\n",
    "\n",
    "    elif choice == '6':\n",
    "        row_num_u = int(input(\"Enter Row number to Read: \"))\n",
    "        row = data.iloc[row_num_u]\n",
    "        print(row)\n",
    "    \n",
    "    elif choice == '7':\n",
    "\n",
    "        row_index = int(input(\"Enter Row number: \"))  \n",
    "        column_name = input(\"Enter column name: \")  \n",
    "        new_value = input(\"Set New Value: \")\n",
    "        data.at[row_index, column_name] = new_value\n",
    "\n",
    "        print(\"Record Modified Successfully\")\n",
    "        print(data.iloc[row_index])\n",
    "\n",
    "    elif choice == '8':\n",
    "\n",
    "        print(data.shape)\n",
    "\n",
    "    elif choice == \"9\":\n",
    "        exp_file = input(\"Enter File Name to Export (Must Include .csv) in End: \")\n",
    "        data.to_csv(exp_file, index=False)\n",
    "        print(Fore.YELLOW, exp_file,\" Successfully Exported.\")\n",
    "\n",
    "    elif choice == '10':\n",
    "        print(\"Exiting the program\")\n",
    "        break\n",
    "    else:\n",
    "        print(\"Invalid choice. Please select a valid option (1/2/3/4/5/6/7/8/9/10).\")"
   ]
  },
  {
   "cell_type": "code",
   "execution_count": null,
   "id": "6610b616-91fd-445a-87a6-ff8c3ad9153a",
   "metadata": {},
   "outputs": [],
   "source": []
  }
 ],
 "metadata": {
  "kernelspec": {
   "display_name": "Python 3 (ipykernel)",
   "language": "python",
   "name": "python3"
  },
  "language_info": {
   "codemirror_mode": {
    "name": "ipython",
    "version": 3
   },
   "file_extension": ".py",
   "mimetype": "text/x-python",
   "name": "python",
   "nbconvert_exporter": "python",
   "pygments_lexer": "ipython3",
   "version": "3.11.2"
  }
 },
 "nbformat": 4,
 "nbformat_minor": 5
}
